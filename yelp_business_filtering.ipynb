{
 "cells": [
  {
   "cell_type": "code",
   "execution_count": 159,
   "metadata": {},
   "outputs": [],
   "source": [
    "import pandas as pd\n",
    "import matplotlib.pyplot as plt\n",
    "import seaborn as sns"
   ]
  },
  {
   "cell_type": "code",
   "execution_count": 160,
   "metadata": {},
   "outputs": [],
   "source": [
    "df_business = pd.read_json('/Users/ketanrode/Desktop/Projects/Restaurants-Business Analysis/archive/yelp_academic_dataset_business.json',lines=True)"
   ]
  },
  {
   "cell_type": "markdown",
   "metadata": {},
   "source": [
    "# Finding all categories in Tampa"
   ]
  },
  {
   "cell_type": "code",
   "execution_count": 161,
   "metadata": {},
   "outputs": [],
   "source": [
    "df=df_business.loc[df_business['city'].str.contains('Tampa')]"
   ]
  },
  {
   "cell_type": "markdown",
   "metadata": {},
   "source": [
    "# EDA"
   ]
  },
  {
   "cell_type": "code",
   "execution_count": 162,
   "metadata": {},
   "outputs": [
    {
     "data": {
      "text/html": [
       "<div>\n",
       "<style scoped>\n",
       "    .dataframe tbody tr th:only-of-type {\n",
       "        vertical-align: middle;\n",
       "    }\n",
       "\n",
       "    .dataframe tbody tr th {\n",
       "        vertical-align: top;\n",
       "    }\n",
       "\n",
       "    .dataframe thead th {\n",
       "        text-align: right;\n",
       "    }\n",
       "</style>\n",
       "<table border=\"1\" class=\"dataframe\">\n",
       "  <thead>\n",
       "    <tr style=\"text-align: right;\">\n",
       "      <th></th>\n",
       "      <th>business_id</th>\n",
       "      <th>name</th>\n",
       "      <th>address</th>\n",
       "      <th>city</th>\n",
       "      <th>state</th>\n",
       "      <th>postal_code</th>\n",
       "      <th>latitude</th>\n",
       "      <th>longitude</th>\n",
       "      <th>stars</th>\n",
       "      <th>review_count</th>\n",
       "      <th>is_open</th>\n",
       "      <th>attributes</th>\n",
       "      <th>categories</th>\n",
       "      <th>hours</th>\n",
       "    </tr>\n",
       "  </thead>\n",
       "  <tbody>\n",
       "    <tr>\n",
       "      <th>11</th>\n",
       "      <td>eEOYSgkmpB90uNA7lDOMRA</td>\n",
       "      <td>Vietnamese Food Truck</td>\n",
       "      <td></td>\n",
       "      <td>Tampa Bay</td>\n",
       "      <td>FL</td>\n",
       "      <td>33602</td>\n",
       "      <td>27.955269</td>\n",
       "      <td>-82.456320</td>\n",
       "      <td>4.0</td>\n",
       "      <td>10</td>\n",
       "      <td>1</td>\n",
       "      <td>{'Alcohol': ''none'', 'OutdoorSeating': 'None'...</td>\n",
       "      <td>Vietnamese, Food, Restaurants, Food Trucks</td>\n",
       "      <td>{'Monday': '11:0-14:0', 'Tuesday': '11:0-14:0'...</td>\n",
       "    </tr>\n",
       "    <tr>\n",
       "      <th>54</th>\n",
       "      <td>0qNpTGTcqPwOLi2hADx4Xw</td>\n",
       "      <td>Charlie's Market</td>\n",
       "      <td>2815 E Sligh Ave</td>\n",
       "      <td>Tampa</td>\n",
       "      <td>FL</td>\n",
       "      <td>33610</td>\n",
       "      <td>28.010360</td>\n",
       "      <td>-82.430042</td>\n",
       "      <td>3.0</td>\n",
       "      <td>9</td>\n",
       "      <td>1</td>\n",
       "      <td>{'BusinessParking': '{'garage': False, 'street...</td>\n",
       "      <td>Food, Grocery, Convenience Stores</td>\n",
       "      <td>None</td>\n",
       "    </tr>\n",
       "    <tr>\n",
       "      <th>58</th>\n",
       "      <td>uI9XODGY_2_ieTE6xJ0myw</td>\n",
       "      <td>Roman Forum</td>\n",
       "      <td>10440 N Dale Mabry Hwy</td>\n",
       "      <td>Tampa</td>\n",
       "      <td>FL</td>\n",
       "      <td>33618</td>\n",
       "      <td>28.046203</td>\n",
       "      <td>-82.505053</td>\n",
       "      <td>4.0</td>\n",
       "      <td>23</td>\n",
       "      <td>0</td>\n",
       "      <td>{'BusinessParking': '{'garage': False, 'street...</td>\n",
       "      <td>Restaurants, American (New), Italian</td>\n",
       "      <td>{'Monday': '11:30-21:0', 'Tuesday': '11:30-21:...</td>\n",
       "    </tr>\n",
       "    <tr>\n",
       "      <th>59</th>\n",
       "      <td>JgpnXv_0XhV3SfbfB50nxw</td>\n",
       "      <td>Joe's Pizza</td>\n",
       "      <td>2038 N Dale Mabry Hwy</td>\n",
       "      <td>Tampa</td>\n",
       "      <td>FL</td>\n",
       "      <td>33607</td>\n",
       "      <td>27.960514</td>\n",
       "      <td>-82.506127</td>\n",
       "      <td>4.0</td>\n",
       "      <td>35</td>\n",
       "      <td>0</td>\n",
       "      <td>{'BusinessParking': '{'garage': False, 'street...</td>\n",
       "      <td>Restaurants, Pizza</td>\n",
       "      <td>{'Monday': '11:0-22:0', 'Tuesday': '11:0-22:0'...</td>\n",
       "    </tr>\n",
       "    <tr>\n",
       "      <th>63</th>\n",
       "      <td>mjWvAkNqoA6Y5P03sDSzfA</td>\n",
       "      <td>Educational Outfitters</td>\n",
       "      <td>3904 W Hillsborough Ave, Ste D</td>\n",
       "      <td>Tampa</td>\n",
       "      <td>FL</td>\n",
       "      <td>33614</td>\n",
       "      <td>27.995450</td>\n",
       "      <td>-82.508119</td>\n",
       "      <td>2.0</td>\n",
       "      <td>10</td>\n",
       "      <td>1</td>\n",
       "      <td>{'BusinessParking': '{'garage': False, 'street...</td>\n",
       "      <td>Uniforms, Shopping</td>\n",
       "      <td>None</td>\n",
       "    </tr>\n",
       "    <tr>\n",
       "      <th>...</th>\n",
       "      <td>...</td>\n",
       "      <td>...</td>\n",
       "      <td>...</td>\n",
       "      <td>...</td>\n",
       "      <td>...</td>\n",
       "      <td>...</td>\n",
       "      <td>...</td>\n",
       "      <td>...</td>\n",
       "      <td>...</td>\n",
       "      <td>...</td>\n",
       "      <td>...</td>\n",
       "      <td>...</td>\n",
       "      <td>...</td>\n",
       "      <td>...</td>\n",
       "    </tr>\n",
       "    <tr>\n",
       "      <th>150189</th>\n",
       "      <td>fj6ShWc_jL5kCtZ4D9cajg</td>\n",
       "      <td>Kickzr4us</td>\n",
       "      <td>2153 University Square Mall</td>\n",
       "      <td>Tampa</td>\n",
       "      <td>FL</td>\n",
       "      <td>33612</td>\n",
       "      <td>28.056606</td>\n",
       "      <td>-82.434196</td>\n",
       "      <td>2.5</td>\n",
       "      <td>13</td>\n",
       "      <td>1</td>\n",
       "      <td>{'WheelchairAccessible': 'True', 'BikeParking'...</td>\n",
       "      <td>Shoe Stores, Shopping, Men's Clothing, Sportin...</td>\n",
       "      <td>{'Monday': '0:0-0:0', 'Tuesday': '11:0-19:0', ...</td>\n",
       "    </tr>\n",
       "    <tr>\n",
       "      <th>150201</th>\n",
       "      <td>xGcpC8D4Sio-bN9KCr054g</td>\n",
       "      <td>Zen Bistro Grill + Sushi</td>\n",
       "      <td>2223 N Westshore Blvd</td>\n",
       "      <td>Tampa</td>\n",
       "      <td>FL</td>\n",
       "      <td>33607</td>\n",
       "      <td>27.964047</td>\n",
       "      <td>-82.521605</td>\n",
       "      <td>3.5</td>\n",
       "      <td>119</td>\n",
       "      <td>0</td>\n",
       "      <td>{'RestaurantsDelivery': 'False', 'RestaurantsA...</td>\n",
       "      <td>Food, Asian Fusion, Thai, Nightlife, Sushi Bar...</td>\n",
       "      <td>{'Monday': '11:0-22:0', 'Tuesday': '11:0-22:0'...</td>\n",
       "    </tr>\n",
       "    <tr>\n",
       "      <th>150211</th>\n",
       "      <td>wz7oFpTzteQQbvMkL-nIeA</td>\n",
       "      <td>Quarter At Ybor City</td>\n",
       "      <td>1800 E Palm Ave</td>\n",
       "      <td>Tampa</td>\n",
       "      <td>FL</td>\n",
       "      <td>33605</td>\n",
       "      <td>27.962914</td>\n",
       "      <td>-82.437719</td>\n",
       "      <td>3.5</td>\n",
       "      <td>6</td>\n",
       "      <td>1</td>\n",
       "      <td>{'BusinessAcceptsCreditCards': 'True'}</td>\n",
       "      <td>Apartments, Home Services, Real Estate</td>\n",
       "      <td>None</td>\n",
       "    </tr>\n",
       "    <tr>\n",
       "      <th>150256</th>\n",
       "      <td>lsM3rDOLYQZBKdVAbKjn8Q</td>\n",
       "      <td>Old Time Pottery</td>\n",
       "      <td>10087 E Adamo Dr</td>\n",
       "      <td>Tampa</td>\n",
       "      <td>FL</td>\n",
       "      <td>33619</td>\n",
       "      <td>27.941949</td>\n",
       "      <td>-82.338981</td>\n",
       "      <td>3.5</td>\n",
       "      <td>29</td>\n",
       "      <td>1</td>\n",
       "      <td>{'BusinessAcceptsCreditCards': 'True', 'Restau...</td>\n",
       "      <td>Home Decor, Arts &amp; Crafts, Flowers &amp; Gifts, Ho...</td>\n",
       "      <td>{'Monday': '9:0-21:0', 'Tuesday': '9:0-21:0', ...</td>\n",
       "    </tr>\n",
       "    <tr>\n",
       "      <th>150289</th>\n",
       "      <td>Fck8i0fNQCa22ERz5Fa21w</td>\n",
       "      <td>Thoughtful Moving</td>\n",
       "      <td>5004 E Fowler Ave</td>\n",
       "      <td>Tampa</td>\n",
       "      <td>FL</td>\n",
       "      <td>33617</td>\n",
       "      <td>28.054934</td>\n",
       "      <td>-82.400832</td>\n",
       "      <td>2.0</td>\n",
       "      <td>27</td>\n",
       "      <td>1</td>\n",
       "      <td>{'BusinessAcceptsCreditCards': 'True', 'ByAppo...</td>\n",
       "      <td>Packing Services, Home Services, Movers, Local...</td>\n",
       "      <td>{'Monday': '22:0-22:30', 'Tuesday': '8:0-19:0'...</td>\n",
       "    </tr>\n",
       "  </tbody>\n",
       "</table>\n",
       "<p>9207 rows × 14 columns</p>\n",
       "</div>"
      ],
      "text/plain": [
       "                   business_id                      name  \\\n",
       "11      eEOYSgkmpB90uNA7lDOMRA     Vietnamese Food Truck   \n",
       "54      0qNpTGTcqPwOLi2hADx4Xw          Charlie's Market   \n",
       "58      uI9XODGY_2_ieTE6xJ0myw               Roman Forum   \n",
       "59      JgpnXv_0XhV3SfbfB50nxw               Joe's Pizza   \n",
       "63      mjWvAkNqoA6Y5P03sDSzfA    Educational Outfitters   \n",
       "...                        ...                       ...   \n",
       "150189  fj6ShWc_jL5kCtZ4D9cajg                 Kickzr4us   \n",
       "150201  xGcpC8D4Sio-bN9KCr054g  Zen Bistro Grill + Sushi   \n",
       "150211  wz7oFpTzteQQbvMkL-nIeA      Quarter At Ybor City   \n",
       "150256  lsM3rDOLYQZBKdVAbKjn8Q          Old Time Pottery   \n",
       "150289  Fck8i0fNQCa22ERz5Fa21w         Thoughtful Moving   \n",
       "\n",
       "                               address       city state postal_code  \\\n",
       "11                                      Tampa Bay    FL       33602   \n",
       "54                    2815 E Sligh Ave      Tampa    FL       33610   \n",
       "58              10440 N Dale Mabry Hwy      Tampa    FL       33618   \n",
       "59               2038 N Dale Mabry Hwy      Tampa    FL       33607   \n",
       "63      3904 W Hillsborough Ave, Ste D      Tampa    FL       33614   \n",
       "...                                ...        ...   ...         ...   \n",
       "150189     2153 University Square Mall      Tampa    FL       33612   \n",
       "150201           2223 N Westshore Blvd      Tampa    FL       33607   \n",
       "150211                 1800 E Palm Ave      Tampa    FL       33605   \n",
       "150256                10087 E Adamo Dr      Tampa    FL       33619   \n",
       "150289               5004 E Fowler Ave      Tampa    FL       33617   \n",
       "\n",
       "         latitude  longitude  stars  review_count  is_open  \\\n",
       "11      27.955269 -82.456320    4.0            10        1   \n",
       "54      28.010360 -82.430042    3.0             9        1   \n",
       "58      28.046203 -82.505053    4.0            23        0   \n",
       "59      27.960514 -82.506127    4.0            35        0   \n",
       "63      27.995450 -82.508119    2.0            10        1   \n",
       "...           ...        ...    ...           ...      ...   \n",
       "150189  28.056606 -82.434196    2.5            13        1   \n",
       "150201  27.964047 -82.521605    3.5           119        0   \n",
       "150211  27.962914 -82.437719    3.5             6        1   \n",
       "150256  27.941949 -82.338981    3.5            29        1   \n",
       "150289  28.054934 -82.400832    2.0            27        1   \n",
       "\n",
       "                                               attributes  \\\n",
       "11      {'Alcohol': ''none'', 'OutdoorSeating': 'None'...   \n",
       "54      {'BusinessParking': '{'garage': False, 'street...   \n",
       "58      {'BusinessParking': '{'garage': False, 'street...   \n",
       "59      {'BusinessParking': '{'garage': False, 'street...   \n",
       "63      {'BusinessParking': '{'garage': False, 'street...   \n",
       "...                                                   ...   \n",
       "150189  {'WheelchairAccessible': 'True', 'BikeParking'...   \n",
       "150201  {'RestaurantsDelivery': 'False', 'RestaurantsA...   \n",
       "150211             {'BusinessAcceptsCreditCards': 'True'}   \n",
       "150256  {'BusinessAcceptsCreditCards': 'True', 'Restau...   \n",
       "150289  {'BusinessAcceptsCreditCards': 'True', 'ByAppo...   \n",
       "\n",
       "                                               categories  \\\n",
       "11             Vietnamese, Food, Restaurants, Food Trucks   \n",
       "54                      Food, Grocery, Convenience Stores   \n",
       "58                   Restaurants, American (New), Italian   \n",
       "59                                     Restaurants, Pizza   \n",
       "63                                     Uniforms, Shopping   \n",
       "...                                                   ...   \n",
       "150189  Shoe Stores, Shopping, Men's Clothing, Sportin...   \n",
       "150201  Food, Asian Fusion, Thai, Nightlife, Sushi Bar...   \n",
       "150211             Apartments, Home Services, Real Estate   \n",
       "150256  Home Decor, Arts & Crafts, Flowers & Gifts, Ho...   \n",
       "150289  Packing Services, Home Services, Movers, Local...   \n",
       "\n",
       "                                                    hours  \n",
       "11      {'Monday': '11:0-14:0', 'Tuesday': '11:0-14:0'...  \n",
       "54                                                   None  \n",
       "58      {'Monday': '11:30-21:0', 'Tuesday': '11:30-21:...  \n",
       "59      {'Monday': '11:0-22:0', 'Tuesday': '11:0-22:0'...  \n",
       "63                                                   None  \n",
       "...                                                   ...  \n",
       "150189  {'Monday': '0:0-0:0', 'Tuesday': '11:0-19:0', ...  \n",
       "150201  {'Monday': '11:0-22:0', 'Tuesday': '11:0-22:0'...  \n",
       "150211                                               None  \n",
       "150256  {'Monday': '9:0-21:0', 'Tuesday': '9:0-21:0', ...  \n",
       "150289  {'Monday': '22:0-22:30', 'Tuesday': '8:0-19:0'...  \n",
       "\n",
       "[9207 rows x 14 columns]"
      ]
     },
     "execution_count": 162,
     "metadata": {},
     "output_type": "execute_result"
    }
   ],
   "source": [
    "df"
   ]
  },
  {
   "cell_type": "markdown",
   "metadata": {},
   "source": [
    "# Null values"
   ]
  },
  {
   "cell_type": "code",
   "execution_count": 163,
   "metadata": {},
   "outputs": [
    {
     "data": {
      "text/plain": [
       "business_id     False\n",
       "name            False\n",
       "address         False\n",
       "city            False\n",
       "state           False\n",
       "postal_code     False\n",
       "latitude        False\n",
       "longitude       False\n",
       "stars           False\n",
       "review_count    False\n",
       "is_open         False\n",
       "attributes       True\n",
       "categories       True\n",
       "hours            True\n",
       "dtype: bool"
      ]
     },
     "execution_count": 163,
     "metadata": {},
     "output_type": "execute_result"
    }
   ],
   "source": [
    "df_business.isna().any()"
   ]
  },
  {
   "cell_type": "code",
   "execution_count": 164,
   "metadata": {},
   "outputs": [
    {
     "data": {
      "text/html": [
       "<div>\n",
       "<style scoped>\n",
       "    .dataframe tbody tr th:only-of-type {\n",
       "        vertical-align: middle;\n",
       "    }\n",
       "\n",
       "    .dataframe tbody tr th {\n",
       "        vertical-align: top;\n",
       "    }\n",
       "\n",
       "    .dataframe thead th {\n",
       "        text-align: right;\n",
       "    }\n",
       "</style>\n",
       "<table border=\"1\" class=\"dataframe\">\n",
       "  <thead>\n",
       "    <tr style=\"text-align: right;\">\n",
       "      <th></th>\n",
       "      <th>business_id</th>\n",
       "      <th>name</th>\n",
       "      <th>address</th>\n",
       "      <th>city</th>\n",
       "      <th>state</th>\n",
       "      <th>postal_code</th>\n",
       "      <th>latitude</th>\n",
       "      <th>longitude</th>\n",
       "      <th>stars</th>\n",
       "      <th>review_count</th>\n",
       "      <th>is_open</th>\n",
       "      <th>attributes</th>\n",
       "      <th>categories</th>\n",
       "      <th>hours</th>\n",
       "    </tr>\n",
       "  </thead>\n",
       "  <tbody>\n",
       "    <tr>\n",
       "      <th>1917</th>\n",
       "      <td>SMYXOLPyM95JvZ-oqnsWUA</td>\n",
       "      <td>A A Berlin Glass &amp; Mirror Co</td>\n",
       "      <td>60 W White Horse Pike</td>\n",
       "      <td>Berlin</td>\n",
       "      <td>NJ</td>\n",
       "      <td>08009</td>\n",
       "      <td>39.800416</td>\n",
       "      <td>-74.937181</td>\n",
       "      <td>3.0</td>\n",
       "      <td>5</td>\n",
       "      <td>1</td>\n",
       "      <td>None</td>\n",
       "      <td>None</td>\n",
       "      <td>None</td>\n",
       "    </tr>\n",
       "    <tr>\n",
       "      <th>2243</th>\n",
       "      <td>9ryVeDaaR-le3kiSayTGow</td>\n",
       "      <td>Pauline African Hair Braiding &amp; Weaving</td>\n",
       "      <td>10204 Saint Charles Rck Rd</td>\n",
       "      <td>Saint Ann</td>\n",
       "      <td>MO</td>\n",
       "      <td>63074</td>\n",
       "      <td>38.726032</td>\n",
       "      <td>-90.379323</td>\n",
       "      <td>1.0</td>\n",
       "      <td>5</td>\n",
       "      <td>1</td>\n",
       "      <td>None</td>\n",
       "      <td>None</td>\n",
       "      <td>None</td>\n",
       "    </tr>\n",
       "    <tr>\n",
       "      <th>3304</th>\n",
       "      <td>xT3J-SP5g49g2FjQfLEQfg</td>\n",
       "      <td>Luxury Perfume</td>\n",
       "      <td>5135 Meadowood Mall Cir</td>\n",
       "      <td>Reno</td>\n",
       "      <td>NV</td>\n",
       "      <td>89502</td>\n",
       "      <td>39.475623</td>\n",
       "      <td>-119.783350</td>\n",
       "      <td>2.0</td>\n",
       "      <td>5</td>\n",
       "      <td>1</td>\n",
       "      <td>None</td>\n",
       "      <td>None</td>\n",
       "      <td>None</td>\n",
       "    </tr>\n",
       "    <tr>\n",
       "      <th>3324</th>\n",
       "      <td>_obl2-rphXvtzP3y_ekV1Q</td>\n",
       "      <td>Certegy Payment Services</td>\n",
       "      <td>11601 Roosevelt Blvd N</td>\n",
       "      <td>Saint Petersburg</td>\n",
       "      <td>FL</td>\n",
       "      <td>33716</td>\n",
       "      <td>27.877463</td>\n",
       "      <td>-82.653546</td>\n",
       "      <td>1.0</td>\n",
       "      <td>7</td>\n",
       "      <td>1</td>\n",
       "      <td>None</td>\n",
       "      <td>None</td>\n",
       "      <td>None</td>\n",
       "    </tr>\n",
       "    <tr>\n",
       "      <th>4640</th>\n",
       "      <td>mKxCNYEoKt6d_1rXmvRwww</td>\n",
       "      <td>Green Envy</td>\n",
       "      <td>3520 N Highway 94</td>\n",
       "      <td>Saint Charles</td>\n",
       "      <td>MO</td>\n",
       "      <td>63301</td>\n",
       "      <td>38.826533</td>\n",
       "      <td>-90.472224</td>\n",
       "      <td>1.5</td>\n",
       "      <td>5</td>\n",
       "      <td>1</td>\n",
       "      <td>None</td>\n",
       "      <td>None</td>\n",
       "      <td>None</td>\n",
       "    </tr>\n",
       "    <tr>\n",
       "      <th>...</th>\n",
       "      <td>...</td>\n",
       "      <td>...</td>\n",
       "      <td>...</td>\n",
       "      <td>...</td>\n",
       "      <td>...</td>\n",
       "      <td>...</td>\n",
       "      <td>...</td>\n",
       "      <td>...</td>\n",
       "      <td>...</td>\n",
       "      <td>...</td>\n",
       "      <td>...</td>\n",
       "      <td>...</td>\n",
       "      <td>...</td>\n",
       "      <td>...</td>\n",
       "    </tr>\n",
       "    <tr>\n",
       "      <th>144328</th>\n",
       "      <td>szluot9mpdIAnUDGi27__w</td>\n",
       "      <td>Anchor Pools and Spas</td>\n",
       "      <td>810 49th St E</td>\n",
       "      <td>Palmetto</td>\n",
       "      <td>FL</td>\n",
       "      <td>34221</td>\n",
       "      <td>27.558259</td>\n",
       "      <td>-82.556160</td>\n",
       "      <td>2.5</td>\n",
       "      <td>5</td>\n",
       "      <td>1</td>\n",
       "      <td>None</td>\n",
       "      <td>None</td>\n",
       "      <td>None</td>\n",
       "    </tr>\n",
       "    <tr>\n",
       "      <th>145039</th>\n",
       "      <td>s54FBcv78I6QNjqznP9oKw</td>\n",
       "      <td>Superior Fence and Rail of Pinellas</td>\n",
       "      <td>1400 Starkey Rd</td>\n",
       "      <td>Largo</td>\n",
       "      <td>FL</td>\n",
       "      <td>33771</td>\n",
       "      <td>27.903442</td>\n",
       "      <td>-82.762799</td>\n",
       "      <td>1.5</td>\n",
       "      <td>10</td>\n",
       "      <td>1</td>\n",
       "      <td>None</td>\n",
       "      <td>None</td>\n",
       "      <td>None</td>\n",
       "    </tr>\n",
       "    <tr>\n",
       "      <th>146058</th>\n",
       "      <td>KYI2rHE3vTG_z9ddqhp58A</td>\n",
       "      <td>Tima Fashion African Hair Braiding</td>\n",
       "      <td>308 Reservoir St</td>\n",
       "      <td>Trenton</td>\n",
       "      <td>NJ</td>\n",
       "      <td>08618</td>\n",
       "      <td>40.230251</td>\n",
       "      <td>-74.769697</td>\n",
       "      <td>1.0</td>\n",
       "      <td>5</td>\n",
       "      <td>1</td>\n",
       "      <td>None</td>\n",
       "      <td>None</td>\n",
       "      <td>None</td>\n",
       "    </tr>\n",
       "    <tr>\n",
       "      <th>148225</th>\n",
       "      <td>DCvA43gLeetay_qttR9ABQ</td>\n",
       "      <td>Cham-Pagne Salon &amp; Spa</td>\n",
       "      <td>315 Clements Bridge Rd</td>\n",
       "      <td>Barrington</td>\n",
       "      <td>NJ</td>\n",
       "      <td>08007</td>\n",
       "      <td>39.869476</td>\n",
       "      <td>-75.052961</td>\n",
       "      <td>1.0</td>\n",
       "      <td>5</td>\n",
       "      <td>1</td>\n",
       "      <td>None</td>\n",
       "      <td>None</td>\n",
       "      <td>None</td>\n",
       "    </tr>\n",
       "    <tr>\n",
       "      <th>149883</th>\n",
       "      <td>NoU_2sLsdgUxAf9S7vuCQg</td>\n",
       "      <td>Food Bazaar</td>\n",
       "      <td>1500 Locust St, Ste 5</td>\n",
       "      <td>Philadelphia</td>\n",
       "      <td>PA</td>\n",
       "      <td>19102</td>\n",
       "      <td>39.948253</td>\n",
       "      <td>-75.166683</td>\n",
       "      <td>2.0</td>\n",
       "      <td>8</td>\n",
       "      <td>0</td>\n",
       "      <td>None</td>\n",
       "      <td>None</td>\n",
       "      <td>None</td>\n",
       "    </tr>\n",
       "  </tbody>\n",
       "</table>\n",
       "<p>103 rows × 14 columns</p>\n",
       "</div>"
      ],
      "text/plain": [
       "                   business_id                                     name  \\\n",
       "1917    SMYXOLPyM95JvZ-oqnsWUA             A A Berlin Glass & Mirror Co   \n",
       "2243    9ryVeDaaR-le3kiSayTGow  Pauline African Hair Braiding & Weaving   \n",
       "3304    xT3J-SP5g49g2FjQfLEQfg                           Luxury Perfume   \n",
       "3324    _obl2-rphXvtzP3y_ekV1Q                 Certegy Payment Services   \n",
       "4640    mKxCNYEoKt6d_1rXmvRwww                               Green Envy   \n",
       "...                        ...                                      ...   \n",
       "144328  szluot9mpdIAnUDGi27__w                    Anchor Pools and Spas   \n",
       "145039  s54FBcv78I6QNjqznP9oKw      Superior Fence and Rail of Pinellas   \n",
       "146058  KYI2rHE3vTG_z9ddqhp58A       Tima Fashion African Hair Braiding   \n",
       "148225  DCvA43gLeetay_qttR9ABQ                   Cham-Pagne Salon & Spa   \n",
       "149883  NoU_2sLsdgUxAf9S7vuCQg                              Food Bazaar   \n",
       "\n",
       "                           address              city state postal_code  \\\n",
       "1917         60 W White Horse Pike            Berlin    NJ       08009   \n",
       "2243    10204 Saint Charles Rck Rd         Saint Ann    MO       63074   \n",
       "3304       5135 Meadowood Mall Cir              Reno    NV       89502   \n",
       "3324        11601 Roosevelt Blvd N  Saint Petersburg    FL       33716   \n",
       "4640             3520 N Highway 94     Saint Charles    MO       63301   \n",
       "...                            ...               ...   ...         ...   \n",
       "144328               810 49th St E          Palmetto    FL       34221   \n",
       "145039             1400 Starkey Rd             Largo    FL       33771   \n",
       "146058            308 Reservoir St           Trenton    NJ       08618   \n",
       "148225      315 Clements Bridge Rd        Barrington    NJ       08007   \n",
       "149883       1500 Locust St, Ste 5      Philadelphia    PA       19102   \n",
       "\n",
       "         latitude   longitude  stars  review_count  is_open attributes  \\\n",
       "1917    39.800416  -74.937181    3.0             5        1       None   \n",
       "2243    38.726032  -90.379323    1.0             5        1       None   \n",
       "3304    39.475623 -119.783350    2.0             5        1       None   \n",
       "3324    27.877463  -82.653546    1.0             7        1       None   \n",
       "4640    38.826533  -90.472224    1.5             5        1       None   \n",
       "...           ...         ...    ...           ...      ...        ...   \n",
       "144328  27.558259  -82.556160    2.5             5        1       None   \n",
       "145039  27.903442  -82.762799    1.5            10        1       None   \n",
       "146058  40.230251  -74.769697    1.0             5        1       None   \n",
       "148225  39.869476  -75.052961    1.0             5        1       None   \n",
       "149883  39.948253  -75.166683    2.0             8        0       None   \n",
       "\n",
       "       categories hours  \n",
       "1917         None  None  \n",
       "2243         None  None  \n",
       "3304         None  None  \n",
       "3324         None  None  \n",
       "4640         None  None  \n",
       "...           ...   ...  \n",
       "144328       None  None  \n",
       "145039       None  None  \n",
       "146058       None  None  \n",
       "148225       None  None  \n",
       "149883       None  None  \n",
       "\n",
       "[103 rows x 14 columns]"
      ]
     },
     "execution_count": 164,
     "metadata": {},
     "output_type": "execute_result"
    }
   ],
   "source": [
    "df_business.loc[df_business['categories'].isna()]"
   ]
  },
  {
   "cell_type": "markdown",
   "metadata": {},
   "source": [
    "# City Counts"
   ]
  },
  {
   "cell_type": "code",
   "execution_count": 165,
   "metadata": {},
   "outputs": [
    {
     "data": {
      "text/plain": [
       "1416"
      ]
     },
     "execution_count": 165,
     "metadata": {},
     "output_type": "execute_result"
    }
   ],
   "source": [
    "df_business['city'].unique().size"
   ]
  },
  {
   "cell_type": "code",
   "execution_count": 166,
   "metadata": {
    "scrolled": false
   },
   "outputs": [
    {
     "name": "stdout",
     "output_type": "stream",
     "text": [
      "Philadelphia     14569\n",
      "Tucson            9250\n",
      "Tampa             9050\n",
      "Indianapolis      7540\n",
      "Nashville         6971\n",
      "New Orleans       6209\n",
      "Reno              5935\n",
      "Edmonton          5054\n",
      "Saint Louis       4827\n",
      "Santa Barbara     3829\n",
      "Name: city, dtype: int64\n"
     ]
    },
    {
     "name": "stderr",
     "output_type": "stream",
     "text": [
      "/Users/ketanrode/opt/anaconda3/lib/python3.9/site-packages/seaborn/_decorators.py:36: FutureWarning: Pass the following variables as keyword args: x, y. From version 0.12, the only valid positional argument will be `data`, and passing other arguments without an explicit keyword will result in an error or misinterpretation.\n",
      "  warnings.warn(\n"
     ]
    },
    {
     "data": {
      "image/png": "[encoded data removed]",
      "text/plain": [
       "<Figure size 720x360 with 1 Axes>"
      ]
     },
     "metadata": {
      "needs_background": "light"
     },
     "output_type": "display_data"
    }
   ],
   "source": [
    "cityCount = df_business['city'].value_counts()[:10]\n",
    "\n",
    "print(cityCount)\n",
    "\n",
    "plt.figure(figsize=(10,5))\n",
    "sns.barplot(cityCount.values,cityCount.index)\n",
    "\n",
    "plt.show()"
   ]
  },
  {
   "cell_type": "markdown",
   "metadata": {},
   "source": [
    "# Name counts"
   ]
  },
  {
   "cell_type": "code",
   "execution_count": 167,
   "metadata": {
    "scrolled": true
   },
   "outputs": [
    {
     "data": {
      "text/plain": [
       "Starbucks       724\n",
       "McDonald's      703\n",
       "Dunkin'         510\n",
       "Subway          459\n",
       "Taco Bell       365\n",
       "CVS Pharmacy    345\n",
       "Walgreens       341\n",
       "Burger King     338\n",
       "Wendy's         331\n",
       "Wawa            307\n",
       "Name: name, dtype: int64"
      ]
     },
     "execution_count": 167,
     "metadata": {},
     "output_type": "execute_result"
    }
   ],
   "source": [
    "df_business['name'].value_counts()[:10]"
   ]
  },
  {
   "cell_type": "code",
   "execution_count": 168,
   "metadata": {},
   "outputs": [
    {
     "name": "stdout",
     "output_type": "stream",
     "text": [
      "Starbucks       724\n",
      "McDonald's      703\n",
      "Dunkin'         510\n",
      "Subway          459\n",
      "Taco Bell       365\n",
      "CVS Pharmacy    345\n",
      "Walgreens       341\n",
      "Burger King     338\n",
      "Wendy's         331\n",
      "Wawa            307\n",
      "Name: name, dtype: int64\n"
     ]
    },
    {
     "name": "stderr",
     "output_type": "stream",
     "text": [
      "/Users/ketanrode/opt/anaconda3/lib/python3.9/site-packages/seaborn/_decorators.py:36: FutureWarning: Pass the following variables as keyword args: x, y. From version 0.12, the only valid positional argument will be `data`, and passing other arguments without an explicit keyword will result in an error or misinterpretation.\n",
      "  warnings.warn(\n"
     ]
    },
    {
     "data": {
      "image/png": "[encoded data removed]",
      "text/plain": [
       "<Figure size 720x360 with 1 Axes>"
      ]
     },
     "metadata": {
      "needs_background": "light"
     },
     "output_type": "display_data"
    }
   ],
   "source": [
    "nameCount = df_business['name'].value_counts()[:10]\n",
    "\n",
    "print(nameCount)\n",
    "\n",
    "plt.figure(figsize=(10,5))\n",
    "sns.barplot(nameCount.values,nameCount.index)\n",
    "plt.show()"
   ]
  },
  {
   "cell_type": "markdown",
   "metadata": {},
   "source": [
    "# Address counts"
   ]
  },
  {
   "cell_type": "code",
   "execution_count": 169,
   "metadata": {},
   "outputs": [
    {
     "data": {
      "text/plain": [
       "                           5127\n",
       "160 N Gulph Rd               86\n",
       "51 N 12th St                 55\n",
       "1 Terminal Dr                52\n",
       "4100 George J Bean Pkwy      46\n",
       "                           ... \n",
       "20545 County Line Rd          1\n",
       "4425 Concord Pike             1\n",
       "8860 Pendleton Pike           1\n",
       "9608 76 Avenue NW             1\n",
       "238 Apollo Beach Blvd         1\n",
       "Name: address, Length: 122844, dtype: int64"
      ]
     },
     "execution_count": 169,
     "metadata": {},
     "output_type": "execute_result"
    }
   ],
   "source": [
    "df_business['address'].value_counts()"
   ]
  },
  {
   "cell_type": "code",
   "execution_count": 170,
   "metadata": {},
   "outputs": [
    {
     "name": "stdout",
     "output_type": "stream",
     "text": [
      "160 N Gulph Rd             86\n",
      "51 N 12th St               55\n",
      "1 Terminal Dr              52\n",
      "4100 George J Bean Pkwy    46\n",
      "222 E Market St            42\n",
      "8500 Essington Ave         38\n",
      "2500 E 2nd St              36\n",
      "6020 E 82nd St             33\n",
      "615 Channelside Dr         32\n",
      "Name: address, dtype: int64\n"
     ]
    },
    {
     "name": "stderr",
     "output_type": "stream",
     "text": [
      "/Users/ketanrode/opt/anaconda3/lib/python3.9/site-packages/seaborn/_decorators.py:36: FutureWarning: Pass the following variables as keyword args: x, y. From version 0.12, the only valid positional argument will be `data`, and passing other arguments without an explicit keyword will result in an error or misinterpretation.\n",
      "  warnings.warn(\n"
     ]
    },
    {
     "data": {
      "image/png": "[encoded data removed]",
      "text/plain": [
       "<Figure size 720x360 with 1 Axes>"
      ]
     },
     "metadata": {
      "needs_background": "light"
     },
     "output_type": "display_data"
    }
   ],
   "source": [
    "addressCount = df_business['address'].value_counts()[1:10]\n",
    "\n",
    "print(addressCount)\n",
    "\n",
    "plt.figure(figsize=(10,5))\n",
    "sns.barplot(addressCount.values,addressCount.index)\n",
    "plt.show()"
   ]
  },
  {
   "cell_type": "markdown",
   "metadata": {},
   "source": [
    "# Star counts"
   ]
  },
  {
   "cell_type": "code",
   "execution_count": 171,
   "metadata": {},
   "outputs": [
    {
     "data": {
      "text/plain": [
       "4.0    31125\n",
       "4.5    27181\n",
       "3.5    26519\n",
       "3.0    18453\n",
       "5.0    16307\n",
       "2.5    14316\n",
       "2.0     9527\n",
       "1.5     4932\n",
       "1.0     1986\n",
       "Name: stars, dtype: int64"
      ]
     },
     "execution_count": 171,
     "metadata": {},
     "output_type": "execute_result"
    }
   ],
   "source": [
    "df_business['stars'].value_counts()"
   ]
  },
  {
   "cell_type": "code",
   "execution_count": 172,
   "metadata": {},
   "outputs": [
    {
     "data": {
      "text/plain": [
       "3.5967235576603303"
      ]
     },
     "execution_count": 172,
     "metadata": {},
     "output_type": "execute_result"
    }
   ],
   "source": [
    "df_business['stars'].mean()"
   ]
  },
  {
   "cell_type": "code",
   "execution_count": 173,
   "metadata": {},
   "outputs": [
    {
     "data": {
      "text/plain": [
       "3.5"
      ]
     },
     "execution_count": 173,
     "metadata": {},
     "output_type": "execute_result"
    }
   ],
   "source": [
    "df_business['stars'].median()"
   ]
  },
  {
   "cell_type": "code",
   "execution_count": 174,
   "metadata": {},
   "outputs": [
    {
     "data": {
      "text/plain": [
       "5.0"
      ]
     },
     "execution_count": 174,
     "metadata": {},
     "output_type": "execute_result"
    }
   ],
   "source": [
    "df_business['stars'].max()"
   ]
  },
  {
   "cell_type": "code",
   "execution_count": 175,
   "metadata": {},
   "outputs": [
    {
     "data": {
      "text/plain": [
       "1.0"
      ]
     },
     "execution_count": 175,
     "metadata": {},
     "output_type": "execute_result"
    }
   ],
   "source": [
    "df_business['stars'].min()"
   ]
  },
  {
   "cell_type": "code",
   "execution_count": 176,
   "metadata": {},
   "outputs": [
    {
     "data": {
      "text/plain": [
       "0.9744207509201083"
      ]
     },
     "execution_count": 176,
     "metadata": {},
     "output_type": "execute_result"
    }
   ],
   "source": [
    "df_business['stars'].std()"
   ]
  },
  {
   "cell_type": "code",
   "execution_count": 177,
   "metadata": {},
   "outputs": [
    {
     "data": {
      "image/png": "[encoded data removed]",
      "text/plain": [
       "<Figure size 432x288 with 1 Axes>"
      ]
     },
     "metadata": {
      "needs_background": "light"
     },
     "output_type": "display_data"
    }
   ],
   "source": [
    "plt.hist(df_business['stars'],bins=20)\n",
    "plt.show()"
   ]
  },
  {
   "cell_type": "markdown",
   "metadata": {},
   "source": [
    "# Categories"
   ]
  },
  {
   "cell_type": "code",
   "execution_count": 178,
   "metadata": {},
   "outputs": [],
   "source": [
    "x = df_business.loc[:,['name','categories']]"
   ]
  },
  {
   "cell_type": "code",
   "execution_count": 179,
   "metadata": {},
   "outputs": [
    {
     "data": {
      "text/html": [
       "<div>\n",
       "<style scoped>\n",
       "    .dataframe tbody tr th:only-of-type {\n",
       "        vertical-align: middle;\n",
       "    }\n",
       "\n",
       "    .dataframe tbody tr th {\n",
       "        vertical-align: top;\n",
       "    }\n",
       "\n",
       "    .dataframe thead th {\n",
       "        text-align: right;\n",
       "    }\n",
       "</style>\n",
       "<table border=\"1\" class=\"dataframe\">\n",
       "  <thead>\n",
       "    <tr style=\"text-align: right;\">\n",
       "      <th></th>\n",
       "      <th>name</th>\n",
       "      <th>categories</th>\n",
       "    </tr>\n",
       "  </thead>\n",
       "  <tbody>\n",
       "    <tr>\n",
       "      <th>0</th>\n",
       "      <td>Abby Rappoport, LAC, CMQ</td>\n",
       "      <td>Doctors, Traditional Chinese Medicine, Naturop...</td>\n",
       "    </tr>\n",
       "    <tr>\n",
       "      <th>1</th>\n",
       "      <td>The UPS Store</td>\n",
       "      <td>Shipping Centers, Local Services, Notaries, Ma...</td>\n",
       "    </tr>\n",
       "    <tr>\n",
       "      <th>2</th>\n",
       "      <td>Target</td>\n",
       "      <td>Department Stores, Shopping, Fashion, Home &amp; G...</td>\n",
       "    </tr>\n",
       "    <tr>\n",
       "      <th>3</th>\n",
       "      <td>St Honore Pastries</td>\n",
       "      <td>Restaurants, Food, Bubble Tea, Coffee &amp; Tea, B...</td>\n",
       "    </tr>\n",
       "    <tr>\n",
       "      <th>4</th>\n",
       "      <td>Perkiomen Valley Brewery</td>\n",
       "      <td>Brewpubs, Breweries, Food</td>\n",
       "    </tr>\n",
       "    <tr>\n",
       "      <th>...</th>\n",
       "      <td>...</td>\n",
       "      <td>...</td>\n",
       "    </tr>\n",
       "    <tr>\n",
       "      <th>150341</th>\n",
       "      <td>Binh's Nails</td>\n",
       "      <td>Nail Salons, Beauty &amp; Spas</td>\n",
       "    </tr>\n",
       "    <tr>\n",
       "      <th>150342</th>\n",
       "      <td>Wild Birds Unlimited</td>\n",
       "      <td>Pets, Nurseries &amp; Gardening, Pet Stores, Hobby...</td>\n",
       "    </tr>\n",
       "    <tr>\n",
       "      <th>150343</th>\n",
       "      <td>Claire's Boutique</td>\n",
       "      <td>Shopping, Jewelry, Piercing, Toy Stores, Beaut...</td>\n",
       "    </tr>\n",
       "    <tr>\n",
       "      <th>150344</th>\n",
       "      <td>Cyclery &amp; Fitness Center</td>\n",
       "      <td>Fitness/Exercise Equipment, Eyewear &amp; Optician...</td>\n",
       "    </tr>\n",
       "    <tr>\n",
       "      <th>150345</th>\n",
       "      <td>Sic Ink</td>\n",
       "      <td>Beauty &amp; Spas, Permanent Makeup, Piercing, Tattoo</td>\n",
       "    </tr>\n",
       "  </tbody>\n",
       "</table>\n",
       "<p>150346 rows × 2 columns</p>\n",
       "</div>"
      ],
      "text/plain": [
       "                            name  \\\n",
       "0       Abby Rappoport, LAC, CMQ   \n",
       "1                  The UPS Store   \n",
       "2                         Target   \n",
       "3             St Honore Pastries   \n",
       "4       Perkiomen Valley Brewery   \n",
       "...                          ...   \n",
       "150341              Binh's Nails   \n",
       "150342      Wild Birds Unlimited   \n",
       "150343         Claire's Boutique   \n",
       "150344  Cyclery & Fitness Center   \n",
       "150345                   Sic Ink   \n",
       "\n",
       "                                               categories  \n",
       "0       Doctors, Traditional Chinese Medicine, Naturop...  \n",
       "1       Shipping Centers, Local Services, Notaries, Ma...  \n",
       "2       Department Stores, Shopping, Fashion, Home & G...  \n",
       "3       Restaurants, Food, Bubble Tea, Coffee & Tea, B...  \n",
       "4                               Brewpubs, Breweries, Food  \n",
       "...                                                   ...  \n",
       "150341                         Nail Salons, Beauty & Spas  \n",
       "150342  Pets, Nurseries & Gardening, Pet Stores, Hobby...  \n",
       "150343  Shopping, Jewelry, Piercing, Toy Stores, Beaut...  \n",
       "150344  Fitness/Exercise Equipment, Eyewear & Optician...  \n",
       "150345  Beauty & Spas, Permanent Makeup, Piercing, Tattoo  \n",
       "\n",
       "[150346 rows x 2 columns]"
      ]
     },
     "execution_count": 179,
     "metadata": {},
     "output_type": "execute_result"
    }
   ],
   "source": [
    "x"
   ]
  },
  {
   "cell_type": "code",
   "execution_count": 180,
   "metadata": {},
   "outputs": [],
   "source": [
    "x.categories = x.categories.apply(lambda x: [y.strip() for y in x.split(',')] if x!=None else \" \")"
   ]
  },
  {
   "cell_type": "code",
   "execution_count": 181,
   "metadata": {},
   "outputs": [],
   "source": [
    "x = x.explode(column='categories')"
   ]
  },
  {
   "cell_type": "code",
   "execution_count": 182,
   "metadata": {},
   "outputs": [
    {
     "data": {
      "text/plain": [
       "Restaurants             52268\n",
       "Food                    27781\n",
       "Shopping                24395\n",
       "Home Services           14356\n",
       "Beauty & Spas           14292\n",
       "                        ...  \n",
       "Patent Law                  1\n",
       "Hainan                      1\n",
       "Housing Cooperatives        1\n",
       "Guamanian                   1\n",
       "Trade Fairs                 1\n",
       "Name: categories, Length: 1312, dtype: int64"
      ]
     },
     "execution_count": 182,
     "metadata": {},
     "output_type": "execute_result"
    }
   ],
   "source": [
    "x['categories'].value_counts()"
   ]
  },
  {
   "cell_type": "code",
   "execution_count": 183,
   "metadata": {},
   "outputs": [
    {
     "name": "stdout",
     "output_type": "stream",
     "text": [
      "Food                27781\n",
      "Shopping            24395\n",
      "Home Services       14356\n",
      "Beauty & Spas       14292\n",
      "Nightlife           12281\n",
      "Health & Medical    11890\n",
      "Local Services      11198\n",
      "Bars                11065\n",
      "Automotive          10773\n",
      "Name: categories, dtype: int64\n"
     ]
    },
    {
     "name": "stderr",
     "output_type": "stream",
     "text": [
      "/Users/ketanrode/opt/anaconda3/lib/python3.9/site-packages/seaborn/_decorators.py:36: FutureWarning: Pass the following variables as keyword args: x, y. From version 0.12, the only valid positional argument will be `data`, and passing other arguments without an explicit keyword will result in an error or misinterpretation.\n",
      "  warnings.warn(\n"
     ]
    },
    {
     "data": {
      "image/png": "[encoded data removed]",
      "text/plain": [
       "<Figure size 720x360 with 1 Axes>"
      ]
     },
     "metadata": {
      "needs_background": "light"
     },
     "output_type": "display_data"
    }
   ],
   "source": [
    "catCount = x['categories'].value_counts()[1:10]\n",
    "\n",
    "print(catCount)\n",
    "\n",
    "plt.figure(figsize=(10,5))\n",
    "sns.barplot(catCount.values,catCount.index)\n",
    "plt.show()"
   ]
  },
  {
   "cell_type": "markdown",
   "metadata": {},
   "source": [
    "# Extracting all categories"
   ]
  },
  {
   "cell_type": "code",
   "execution_count": 184,
   "metadata": {},
   "outputs": [],
   "source": [
    "def findCat(df):\n",
    "    if df.categories != None:\n",
    "        listOfCat=df.categories.split(',')\n",
    "        return listOfCat\n",
    "    else:\n",
    "        return []"
   ]
  },
  {
   "cell_type": "code",
   "execution_count": 185,
   "metadata": {
    "scrolled": true
   },
   "outputs": [],
   "source": [
    "categories=[]\n",
    "for i in range(len(df)):\n",
    "    categories = categories + findCat(df.iloc[i])"
   ]
  },
  {
   "cell_type": "code",
   "execution_count": 186,
   "metadata": {
    "scrolled": true
   },
   "outputs": [],
   "source": [
    "categories.sort()"
   ]
  },
  {
   "cell_type": "code",
   "execution_count": 187,
   "metadata": {},
   "outputs": [],
   "source": [
    "res = []\n",
    "for each in categories:\n",
    "    if each not in res:\n",
    "        res.append(each)"
   ]
  },
  {
   "cell_type": "code",
   "execution_count": 188,
   "metadata": {},
   "outputs": [],
   "source": [
    "df2 = pd.DataFrame()"
   ]
  },
  {
   "cell_type": "code",
   "execution_count": 189,
   "metadata": {},
   "outputs": [],
   "source": [
    "df2['categories']=res"
   ]
  },
  {
   "cell_type": "code",
   "execution_count": 190,
   "metadata": {},
   "outputs": [],
   "source": [
    "df2.to_csv('categories.csv')"
   ]
  },
  {
   "cell_type": "markdown",
   "metadata": {},
   "source": [
    "# Finding business that are food"
   ]
  },
  {
   "cell_type": "code",
   "execution_count": 191,
   "metadata": {},
   "outputs": [],
   "source": [
    "# Extract all categories_filtered into a list\n",
    "\n",
    "df_categories = pd.read_csv('categories_filtered.csv',index_col=0)"
   ]
  },
  {
   "cell_type": "code",
   "execution_count": 192,
   "metadata": {
    "scrolled": true
   },
   "outputs": [],
   "source": [
    "catlist = []\n",
    "for i in range(len(df_categories)+1):\n",
    "    if i!=185:\n",
    "        catlist.append(df_categories['categories'][i])"
   ]
  },
  {
   "cell_type": "markdown",
   "metadata": {},
   "source": [
    "# extracting rows that contains categories filtered"
   ]
  },
  {
   "cell_type": "code",
   "execution_count": 193,
   "metadata": {},
   "outputs": [],
   "source": [
    "def findCat(x):\n",
    "    res = []\n",
    "    if x != None:\n",
    "        xsplit = x.split(',')\n",
    "        for each in xsplit:\n",
    "            if each.strip() in catlist:\n",
    "                res.append(each)\n",
    "        if len(res)==0:\n",
    "            return 0\n",
    "        else: return res\n",
    "    else:\n",
    "        return 0"
   ]
  },
  {
   "cell_type": "code",
   "execution_count": 194,
   "metadata": {
    "scrolled": true
   },
   "outputs": [],
   "source": [
    "df2=pd.DataFrame(df['categories'].apply(lambda x:findCat(x)))"
   ]
  },
  {
   "cell_type": "code",
   "execution_count": 195,
   "metadata": {},
   "outputs": [],
   "source": [
    "indexes=df2[df2['categories']!=0].index"
   ]
  },
  {
   "cell_type": "code",
   "execution_count": 196,
   "metadata": {
    "scrolled": true
   },
   "outputs": [],
   "source": [
    "columnsWeNeed = ['business_id', 'latitude', 'longitude', 'stars', 'review_count', 'categories']\n",
    "\n",
    "df_out = df_business.iloc[indexes].loc[:,columnsWeNeed].reset_index(drop=True)"
   ]
  },
  {
   "cell_type": "code",
   "execution_count": 197,
   "metadata": {},
   "outputs": [
    {
     "data": {
      "text/html": [
       "<div>\n",
       "<style scoped>\n",
       "    .dataframe tbody tr th:only-of-type {\n",
       "        vertical-align: middle;\n",
       "    }\n",
       "\n",
       "    .dataframe tbody tr th {\n",
       "        vertical-align: top;\n",
       "    }\n",
       "\n",
       "    .dataframe thead th {\n",
       "        text-align: right;\n",
       "    }\n",
       "</style>\n",
       "<table border=\"1\" class=\"dataframe\">\n",
       "  <thead>\n",
       "    <tr style=\"text-align: right;\">\n",
       "      <th></th>\n",
       "      <th>business_id</th>\n",
       "      <th>latitude</th>\n",
       "      <th>longitude</th>\n",
       "      <th>stars</th>\n",
       "      <th>review_count</th>\n",
       "      <th>categories</th>\n",
       "    </tr>\n",
       "  </thead>\n",
       "  <tbody>\n",
       "    <tr>\n",
       "      <th>0</th>\n",
       "      <td>eEOYSgkmpB90uNA7lDOMRA</td>\n",
       "      <td>27.955269</td>\n",
       "      <td>-82.456320</td>\n",
       "      <td>4.0</td>\n",
       "      <td>10</td>\n",
       "      <td>Vietnamese, Food, Restaurants, Food Trucks</td>\n",
       "    </tr>\n",
       "    <tr>\n",
       "      <th>1</th>\n",
       "      <td>0qNpTGTcqPwOLi2hADx4Xw</td>\n",
       "      <td>28.010360</td>\n",
       "      <td>-82.430042</td>\n",
       "      <td>3.0</td>\n",
       "      <td>9</td>\n",
       "      <td>Food, Grocery, Convenience Stores</td>\n",
       "    </tr>\n",
       "    <tr>\n",
       "      <th>2</th>\n",
       "      <td>uI9XODGY_2_ieTE6xJ0myw</td>\n",
       "      <td>28.046203</td>\n",
       "      <td>-82.505053</td>\n",
       "      <td>4.0</td>\n",
       "      <td>23</td>\n",
       "      <td>Restaurants, American (New), Italian</td>\n",
       "    </tr>\n",
       "    <tr>\n",
       "      <th>3</th>\n",
       "      <td>JgpnXv_0XhV3SfbfB50nxw</td>\n",
       "      <td>27.960514</td>\n",
       "      <td>-82.506127</td>\n",
       "      <td>4.0</td>\n",
       "      <td>35</td>\n",
       "      <td>Restaurants, Pizza</td>\n",
       "    </tr>\n",
       "    <tr>\n",
       "      <th>4</th>\n",
       "      <td>RK6-cJ9hj53RzOlCBmpT-g</td>\n",
       "      <td>27.890814</td>\n",
       "      <td>-82.502346</td>\n",
       "      <td>5.0</td>\n",
       "      <td>5</td>\n",
       "      <td>Restaurants, Italian, Food Trucks, Food</td>\n",
       "    </tr>\n",
       "    <tr>\n",
       "      <th>...</th>\n",
       "      <td>...</td>\n",
       "      <td>...</td>\n",
       "      <td>...</td>\n",
       "      <td>...</td>\n",
       "      <td>...</td>\n",
       "      <td>...</td>\n",
       "    </tr>\n",
       "    <tr>\n",
       "      <th>3947</th>\n",
       "      <td>c6RWw740cIB9-efs9tSLyg</td>\n",
       "      <td>27.892254</td>\n",
       "      <td>-82.493984</td>\n",
       "      <td>5.0</td>\n",
       "      <td>34</td>\n",
       "      <td>Food, Mexican, Seafood, Barbeque, Cuban, Resta...</td>\n",
       "    </tr>\n",
       "    <tr>\n",
       "      <th>3948</th>\n",
       "      <td>hezQG50YXqdgxkhl2R9OuQ</td>\n",
       "      <td>27.996400</td>\n",
       "      <td>-82.565400</td>\n",
       "      <td>1.5</td>\n",
       "      <td>30</td>\n",
       "      <td>Fast Food, Restaurants, Breakfast &amp; Brunch, Ta...</td>\n",
       "    </tr>\n",
       "    <tr>\n",
       "      <th>3949</th>\n",
       "      <td>MRGIaZmmpY38WbhVq29qZA</td>\n",
       "      <td>27.997949</td>\n",
       "      <td>-82.582649</td>\n",
       "      <td>3.0</td>\n",
       "      <td>6</td>\n",
       "      <td>Restaurants, Food Stands, Spanish, Caribbean</td>\n",
       "    </tr>\n",
       "    <tr>\n",
       "      <th>3950</th>\n",
       "      <td>ny1N_Py01kVoGOvL9oKjMQ</td>\n",
       "      <td>27.942668</td>\n",
       "      <td>-82.482716</td>\n",
       "      <td>4.0</td>\n",
       "      <td>578</td>\n",
       "      <td>Breakfast &amp; Brunch, Restaurants, Southern, Ame...</td>\n",
       "    </tr>\n",
       "    <tr>\n",
       "      <th>3951</th>\n",
       "      <td>xGcpC8D4Sio-bN9KCr054g</td>\n",
       "      <td>27.964047</td>\n",
       "      <td>-82.521605</td>\n",
       "      <td>3.5</td>\n",
       "      <td>119</td>\n",
       "      <td>Food, Asian Fusion, Thai, Nightlife, Sushi Bar...</td>\n",
       "    </tr>\n",
       "  </tbody>\n",
       "</table>\n",
       "<p>3952 rows × 6 columns</p>\n",
       "</div>"
      ],
      "text/plain": [
       "                 business_id   latitude  longitude  stars  review_count  \\\n",
       "0     eEOYSgkmpB90uNA7lDOMRA  27.955269 -82.456320    4.0            10   \n",
       "1     0qNpTGTcqPwOLi2hADx4Xw  28.010360 -82.430042    3.0             9   \n",
       "2     uI9XODGY_2_ieTE6xJ0myw  28.046203 -82.505053    4.0            23   \n",
       "3     JgpnXv_0XhV3SfbfB50nxw  27.960514 -82.506127    4.0            35   \n",
       "4     RK6-cJ9hj53RzOlCBmpT-g  27.890814 -82.502346    5.0             5   \n",
       "...                      ...        ...        ...    ...           ...   \n",
       "3947  c6RWw740cIB9-efs9tSLyg  27.892254 -82.493984    5.0            34   \n",
       "3948  hezQG50YXqdgxkhl2R9OuQ  27.996400 -82.565400    1.5            30   \n",
       "3949  MRGIaZmmpY38WbhVq29qZA  27.997949 -82.582649    3.0             6   \n",
       "3950  ny1N_Py01kVoGOvL9oKjMQ  27.942668 -82.482716    4.0           578   \n",
       "3951  xGcpC8D4Sio-bN9KCr054g  27.964047 -82.521605    3.5           119   \n",
       "\n",
       "                                             categories  \n",
       "0            Vietnamese, Food, Restaurants, Food Trucks  \n",
       "1                     Food, Grocery, Convenience Stores  \n",
       "2                  Restaurants, American (New), Italian  \n",
       "3                                    Restaurants, Pizza  \n",
       "4               Restaurants, Italian, Food Trucks, Food  \n",
       "...                                                 ...  \n",
       "3947  Food, Mexican, Seafood, Barbeque, Cuban, Resta...  \n",
       "3948  Fast Food, Restaurants, Breakfast & Brunch, Ta...  \n",
       "3949       Restaurants, Food Stands, Spanish, Caribbean  \n",
       "3950  Breakfast & Brunch, Restaurants, Southern, Ame...  \n",
       "3951  Food, Asian Fusion, Thai, Nightlife, Sushi Bar...  \n",
       "\n",
       "[3952 rows x 6 columns]"
      ]
     },
     "execution_count": 197,
     "metadata": {},
     "output_type": "execute_result"
    }
   ],
   "source": [
    "df_out"
   ]
  },
  {
   "cell_type": "code",
   "execution_count": 198,
   "metadata": {},
   "outputs": [],
   "source": [
    "df_out.to_csv('yelp_business.csv')"
   ]
  }
 ],
 "metadata": {
  "kernelspec": {
   "display_name": "Python 3.9.12",
   "language": "python",
   "name": "python3"
  },
  "language_info": {
   "codemirror_mode": {
    "name": "ipython",
    "version": 3
   },
   "file_extension": ".py",
   "mimetype": "text/x-python",
   "name": "python",
   "nbconvert_exporter": "python",
   "pygments_lexer": "ipython3",
   "version": "3.9.12"
  },
  "vscode": {
   "interpreter": {
    "hash": "bc46d34580d06dfb6272719942ceb516ea9773bf81a38aeac246d96070dde466"
   }
  }
 },
 "nbformat": 4,
 "nbformat_minor": 4
}
